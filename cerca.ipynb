{
 "cells": [
  {
   "cell_type": "code",
   "execution_count": 1,
   "metadata": {},
   "outputs": [],
   "source": [
    "from scripts.filter import filtrar_dataframe\n",
    "from scripts.distance import find_nearest_n_places, find_nearest_within_radius\n",
    "from scripts.utilities import read_kml_to_dataframe, normalize_df\n",
    "import pandas as pd\n",
    "import numpy as np"
   ]
  },
  {
   "cell_type": "markdown",
   "metadata": {},
   "source": [
    "## Lectura de Datos"
   ]
  },
  {
   "cell_type": "code",
   "execution_count": 2,
   "metadata": {},
   "outputs": [],
   "source": [
    "llamadas = pd.read_excel('data/Llamadas 911.xlsx')"
   ]
  },
  {
   "cell_type": "code",
   "execution_count": 3,
   "metadata": {},
   "outputs": [],
   "source": [
    "ruta_censo = 'data/ageb_mza_urbana_19_cpv2020/conjunto_de_datos/conjunto_de_datos_ageb_urbana_19_cpv2020.csv'\n",
    "censo = pd.read_csv(ruta_censo)"
   ]
  },
  {
   "cell_type": "code",
   "execution_count": 4,
   "metadata": {},
   "outputs": [],
   "source": [
    "ruta_denue = 'data/denue_19_csv/conjunto_de_datos/denue_inegi_19_.csv'\n",
    "denue = pd.read_csv(ruta_denue, encoding='latin1', low_memory=False)"
   ]
  },
  {
   "cell_type": "code",
   "execution_count": 5,
   "metadata": {},
   "outputs": [],
   "source": [
    "casos_mujeres = {}\n",
    "for year in range(2017, 2024):\n",
    "    file_path = f'data/casos_mujeres/casos_mujeres{year}.kml'\n",
    "    casos_mujeres[year] = read_kml_to_dataframe(file_path)\n",
    "feminicidios = pd.concat(casos_mujeres.values())\n"
   ]
  },
  {
   "cell_type": "markdown",
   "metadata": {},
   "source": [
    "## Se encuentran las cosas mas cercanas a los feminicidios"
   ]
  },
  {
   "cell_type": "code",
   "execution_count": 6,
   "metadata": {},
   "outputs": [],
   "source": [
    "R = 0.2  # Radio de 200m\n",
    "distances, indices = find_nearest_within_radius(feminicidios, denue, radius=R)"
   ]
  },
  {
   "cell_type": "code",
   "execution_count": 7,
   "metadata": {},
   "outputs": [],
   "source": [
    "# Debug\n",
    "assert len(indices) == len(feminicidios)\n",
    "\n",
    "# Agregar las cosas cercanas\n",
    "feminicidios['Cosas_Cerca'] = ['; '.join(denue.loc[idx, 'nom_estab'] if idx else 'Nada Cerca' for idx in index_array) if isinstance(index_array, np.ndarray) else 'Nada Cerca' for index_array in indices]\n"
   ]
  },
  {
   "cell_type": "code",
   "execution_count": 9,
   "metadata": {},
   "outputs": [
    {
     "data": {
      "text/plain": [
       "0                                     QUE POLLO GINEBRA\n",
       "1     ABARROTES OLY; ABARROTES JUAN PABLO; ABARROTES...\n",
       "2     DISEÑOS Y CONSTRUCCIONES DEL FUTURO; ESTETICA ...\n",
       "3                                        BANAMEX; BAJIO\n",
       "4     CARPINTERIA; DIF; VULCANIZADORA; RENTA DE CAMI...\n",
       "                            ...                        \n",
       "76    TIENDA MERCADIA SANTA BARBARA; OXXO SUC 508MD ...\n",
       "77    INDUSTRIA CORPORATI MEXICO; SIX AGUASCALIENTES...\n",
       "78                                           Nada Cerca\n",
       "79                                           Nada Cerca\n",
       "80                                           Nada Cerca\n",
       "Name: Cosas_Cerca, Length: 726, dtype: object"
      ]
     },
     "execution_count": 9,
     "metadata": {},
     "output_type": "execute_result"
    }
   ],
   "source": [
    "feminicidios['Cosas_Cerca']"
   ]
  }
 ],
 "metadata": {
  "kernelspec": {
   "display_name": "Python 3",
   "language": "python",
   "name": "python3"
  },
  "language_info": {
   "codemirror_mode": {
    "name": "ipython",
    "version": 3
   },
   "file_extension": ".py",
   "mimetype": "text/x-python",
   "name": "python",
   "nbconvert_exporter": "python",
   "pygments_lexer": "ipython3",
   "version": "3.11.6"
  }
 },
 "nbformat": 4,
 "nbformat_minor": 2
}
